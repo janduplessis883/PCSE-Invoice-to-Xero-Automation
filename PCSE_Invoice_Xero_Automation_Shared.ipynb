{
  "nbformat": 4,
  "nbformat_minor": 0,
  "metadata": {
    "colab": {
      "provenance": []
    },
    "kernelspec": {
      "name": "python3",
      "display_name": "Python 3"
    },
    "language_info": {
      "name": "python"
    }
  },
  "cells": [
    {
      "cell_type": "markdown",
      "source": [
        "# **PCSE** GMS Invoice **/ Xero Automation** v2.0\n",
        "`code by Jan du Plessis`<BR>\n",
        "\n",
        ">**GitHub** https://github.com/janduplessis883<BR>\n",
        "**Email** drjanduplessis@icloud.com<BR>\n",
        "**Twitter** @janduplessis<BR>\n",
        "\n",
        "\n",
        "1.   To use this Automation **Save copy to DRIVE** form the File menu.\n",
        "2.   On **first use**, follow the instructions and **RUN** each code sell individually.\n",
        "3.   Once configured, speed up invoice processing by using **Run All** cells from the Runtime menu.\n",
        "\n",
        "\n",
        "\n"
      ],
      "metadata": {
        "id": "QWj2VhNUm1HF"
      }
    },
    {
      "cell_type": "markdown",
      "source": [
        "# Installing required **Python modules**"
      ],
      "metadata": {
        "id": "6X9kQ34dn8t4"
      }
    },
    {
      "cell_type": "code",
      "source": [
        "!pip install PyPDF2"
      ],
      "metadata": {
        "id": "cGoVEv2JXqI7",
        "colab": {
          "base_uri": "https://localhost:8080/"
        },
        "outputId": "0de5c569-48d7-4ce3-dc5e-8ff985390533"
      },
      "execution_count": null,
      "outputs": [
        {
          "output_type": "stream",
          "name": "stdout",
          "text": [
            "Requirement already satisfied: PyPDF2 in /usr/local/lib/python3.10/dist-packages (3.0.1)\n"
          ]
        }
      ]
    },
    {
      "cell_type": "markdown",
      "source": [
        "# Extracting **text** from PDF Invoice.\n",
        "\n",
        "Download GMS Invoice from [PSCE Online](https://pcse.england.nhs.uk/). Download **Extended PDF version** to your hard drive.<BR>\n",
        "**Upload PDF** to Colabs enviroment - see left panel (folder icon).<BR>\n",
        "Right click file in left panel, select **Copy Path**<BR>\n",
        "Paste **File Path** prompted, when the next code segment runs.\n",
        "## ✋ **INPUT REQUIRED** in the next code cell."
      ],
      "metadata": {
        "id": "a1fJH1TioZiq"
      }
    },
    {
      "cell_type": "code",
      "source": [
        "from PyPDF2 import PdfReader\n",
        "\n",
        "# Collect required information\n",
        "#invoice_pdf_net = float(input(\"Enter GMS Payment received acc. Bank Statement?: £\"))\n",
        "invoice_date_input = input(\"What is the invoice date? Format: 'DD-MMM-YYYY' \")\n",
        "invoice_number_input = input(\"Specify unique Xero Invoice Number: AutoINV-\")\n",
        "invoice_number_input = \"AutoINV-\" + invoice_number_input\n",
        "pdf_path = input(\"Paste (ctrl V) 'file path' to invoice PDF: \")\n",
        "\n",
        "# Open the PDF file using the PdfReader class\n",
        "with open(pdf_path, 'rb') as pdf_file:\n",
        "    pdf_reader = PdfReader(pdf_file)\n",
        "\n",
        "    # Access the pages in the PDF file using the pages attribute\n",
        "    page_one = pdf_reader.pages[0]\n",
        "    page1 = page_one.extract_text()\n",
        "    page_two = pdf_reader.pages[1]\n",
        "    page2 = page_two.extract_text()\n",
        "\n",
        "# Close the PDF file\n",
        "pdf_file.close()\n",
        "\n",
        "print('PDF extraction successful.')\n"
      ],
      "metadata": {
        "id": "dEEpQO80hoPu",
        "colab": {
          "base_uri": "https://localhost:8080/"
        },
        "outputId": "12ad1fb5-c9f0-4e87-865f-ece3b72b66d9"
      },
      "execution_count": null,
      "outputs": [
        {
          "output_type": "stream",
          "name": "stdout",
          "text": [
            "What is the invoice date? Format: 'DD-MMM-YYYY' 22-Jul-2023\n",
            "Specify unique Xero Invoice Number: AutoINV-00411\n",
            "Paste (ctrl V) 'file path' to invoice PDF: /content/23 July.pdf\n",
            "PDF extraction successful.\n"
          ]
        }
      ]
    },
    {
      "cell_type": "markdown",
      "source": [
        "# **Parsing** invoice info from text."
      ],
      "metadata": {
        "id": "Brf9wCkHYwrd"
      }
    },
    {
      "cell_type": "code",
      "source": [
        "#Prepare Python List from extracted data - Check Current Format\n",
        "list_all = page1 + page2\n",
        "list_all2 = list_all.splitlines()\n",
        "\n",
        "#print(\"Output > list_all2 \", type(list_all2), \"Successful\")\n",
        "print(list_all)"
      ],
      "metadata": {
        "id": "kPCAIyH2TLbE",
        "colab": {
          "base_uri": "https://localhost:8080/"
        },
        "outputId": "a842afff-6932-486e-b93c-022bee0a174a"
      },
      "execution_count": null,
      "outputs": [
        {
          "output_type": "stream",
          "name": "stdout",
          "text": [
            "GPP Payments\n",
            "Statement Date : 20/07/2023\n",
            "Contractor ID : E87750\n",
            "Net : £68,702.11\n",
            "Invoice NHSE : £100.60\n",
            "Credit NHSE : £0.00\n",
            "Invoice COM : £69,510.35\n",
            "Credit COM : -£908.84\n",
            "Statement : July - The Surgery (E87750)\n",
            "Ref. no : 481967\n",
            "Description \n",
            "GMS/PMS/APMS Contract Value \n",
            "GMS/PMS/APMS Contract Value \n",
            "Calculation of Monthly Global Sum Payment 415,280.30 \n",
            "Temporary Residents Adjustment 2,107.77 Add\n",
            "London Weighting Allowance 9,142.92 Add\n",
            "Superannuation Premium 0.00 Add\n",
            "Appraisal Premium 0.00 Add\n",
            "Adjusted Global Sum Annual Payment ------------- \n",
            "426,530.99 \n",
            "Equals \n",
            "Initial Global Sum Monthly Payment 35,544.25 \n",
            "Additional Service Opt Outs 0.00 Minus \n",
            "Capitation Monthly Payment GMS/PMS/APMS (JUL, AUG & SEP) ------------- \n",
            "35,544.25 \n",
            "Additonal Opt Out Details \n",
            "Total  0.00  \n",
            "Capitation Data (GP Practice) \n",
            "Main Surgery Postcode SW59JA \n",
            "Raw Practice List Size 4,226 \n",
            "Count of Patients Registered in Past Twelve Months 626\n",
            "Patients Average distance to main surgery (metres) 275.85701 \n",
            "Practices Population Density 146.55268 \n",
            "Practice Count of Patients in Residential Care 0\n",
            "Raw Practice List Size 4,226 \n",
            "Divided by\n",
            "PCO Raw population Current Quarter 234,710.00000 \n",
            "Multiplied by\n",
            "PCO Weighted Population Current Quarter 213,364.50171 \n",
            "Equals\n",
            "Practice Normalised List Size 3,841.67008 \n",
            "Multiplied by Practice Weighted Index Values\n",
            "Practice Age / Sex Index (PASI) 0.98582 \n",
            "Practice Additional Needs Index (PANI) 1.02879 \n",
            "Practice List Turnover Index (PLTI) 1.01643 \n",
            "Practice Market Forces Factor Index (PMFFI) 0.99995 \n",
            "Practice Rurality Index 1.02218 \n",
            "Practice Residential Nursing Home Index (PRNHI) 0.99992 \n",
            "Equals\n",
            "Practice Weighted List Size 4,047.48842 \n",
            "Capitation Data (For Host PCO)\n",
            "Host PCO Code 5LA\n",
            "Multiplied by\n",
            "PCO Weighted Population Current Quarter 213,364.50171 \n",
            "Divided by\n",
            "PCO Weighted List Size 212,694.94761 \n",
            "Equals\n",
            "Practice Normalised Weighted List Size 4,060.22973 \n",
            "Practice Age / Sex Breakdown \n",
            "Age Sex BreakDown Male Weight Female Weight \n",
            "Age Group 0-4 59 3.97 43 3.64\n",
            "Age Group 5-14 150 1.00 131 1.04\n",
            "Age Group 15-44 1007 1.02 953 2.19\n",
            "Age Group 45-64 830 2.15 570 3.36\n",
            "Age Group 65-74 128 4.19 149 4.90\n",
            "Age Group 75-84 65 5.81 86 6.56\n",
            "Age Group 85 And Over 21 6.27 34 6.72\n",
            "Claims \n",
            "Adjustments \n",
            "Paycode Description A/M Source £\n",
            "RANDR 2023-2024 ICBRates 01/05/23 to 31/03/24 M COM £3,834.83\n",
            "Quality Outcomes Framework \n",
            "Quality Outcomes Framework \n",
            "Type Source £Aspiration COM £2,217.12\n",
            "Enhanced Services \n",
            "Enhanced Services \n",
            "Paycode Description Source £\n",
            "MMRVAG Measles Mumps and Rubella (MMR) Vaccinations (GMS) NHSE £10.06\n",
            "ROTOVG Rotavirus vaccine (GMS) NHSE £10.06\n",
            "SHINGG Shingles Immunisation (GMS) NHSE £20.12\n",
            "MENCBG Men B - GMS NHSE £10.06\n",
            "HIBENG C&M-GMS LES Hib/Men C ES NHSE £30.18\n",
            "SIXVAG C&M-GMS - 6 in 1 Vaccination NHSE £20.12\n",
            "DESPRG GMS DES Participation in the PCN COM £592.51\n",
            "WMSCMG GMS Weight Management Service COM £207.00\n",
            "Adjustments \n",
            "Adjustments \n",
            "Paycode Description A/M Source £\n",
            "ZPRCAG LBS End of Life Apr-Mar24 M COM £144.68\n",
            "ZPRCAG LBS Support For Carers Apr-Mar24 M COM £649.37\n",
            "ZPRCAG LBS MCMW Apr-Mar24 M COM £1,862.47\n",
            "ZPRCAG LBS Access Apr-Mar24 M COM £2,271.11\n",
            "NRENT 23/24 Notional Rent Jul23 A COM £8,845.83\n",
            "ZPRCAG PY 22-23 WL PMS Q4 Asthma Activity A COM £155.68\n",
            "ZPRCAG PY 22-23 WL PMS Cervical Screening Q4 Activity A COM £210.07\n",
            "ZPRCAG PY 22-23 WL PMS Q2-Q4 CEV Activity A COM £394.36\n",
            "ZPRCAG PY 22-23 WL PMS Q4 AF Activity A COM £957.84\n",
            "ZPRCAG PY 22-23 LES (OOHS) yearend reconciliation payment A COM £11,623.23\n",
            "Adjustments \n",
            "Adjustments \n",
            "Paycode Description A/M Source £\n",
            "STATL Statutory Levy deductions Jun-Mar24 M COM -£203.59\n",
            "Pension Contributions \n",
            "Employee's Superannuation Contributions \n",
            "GMC Code Name Tier Rate £\n",
            "2752763 Orietta Emiliani 9.8 -£285.83\n",
            "Employer's Superannuation Contributions \n",
            "GMC Code Name Tier Rate £\n",
            "2752763 Orietta Emiliani 14.38 -£419.42\n",
            "Total Amount Paid £68,702.11 \n"
          ]
        }
      ]
    },
    {
      "cell_type": "markdown",
      "source": [
        "Removing no-invoicable data - append to **final_list**.<BR>\n",
        "Finding **Global Sum** Amount."
      ],
      "metadata": {
        "id": "F_uZlc-FsuMe"
      }
    },
    {
      "cell_type": "code",
      "source": [
        "#Extract Total Paid to variable\n",
        "total_paid = list_all2[-1]\n",
        "total_amount = float(total_paid.split('£')[-1].replace(\",\",\"\"))\n",
        "print(\"Total Paid - \", total_amount)\n",
        "\n",
        "counta = 0\n",
        "final_list = []\n",
        "exclude_list = [\"Paycode Description\", \"GMC Code Name Tier Rate\", \"Paycode Description\", \"Type Source\", \"Total Amount Paid\", \"Invoice\", \"Net\", \"Credit\", \"Percentage Received\",  'GMC Code Name Month']\n",
        "\n",
        "iter_index = 0\n",
        "# first iter over list_all2 with list comprehension to find index of Global sum +1 and extract for proceeding.\n",
        "for list in list_all2:\n",
        "  if [ex for ex in exclude_list if(ex in list)]:\n",
        "    #print(\"Invoice Line Removed - \", iter_index)\n",
        "    iter_index = iter_index +1\n",
        "\n",
        "  elif \"£\" in list:\n",
        "    final_list.append(str(list))\n",
        "    counta = counta +1\n",
        "    iter_index = iter_index +1\n",
        "\n",
        "# Find Index of Global Sum ammount in all_list2\n",
        "iter_index = 0\n",
        "search_text = \"Capitation Monthly Payment\"\n",
        "for list in list_all2:\n",
        "  if search_text not in list:\n",
        "    iter_index = iter_index + 1\n",
        "\n",
        "  else:\n",
        "    print(\"Global Sum Amount found - list_all2 index: \" + str(iter_index + 1))\n",
        "    global_sum_index = iter_index + 1\n",
        "\n",
        "globalsum_amount = list_all2[global_sum_index]\n",
        "globalsum_amount = globalsum_amount.rstrip().replace(\",\",\"\")\n",
        "print(globalsum_amount)\n",
        "global_sum_str = \"Global Sum £\"+ str(globalsum_amount)\n",
        "#print(global_sum_str)\n",
        "final_list.append(global_sum_str)\n",
        "\n",
        "#print(\"final_list created - entries = \" + str(len(final_list)))\n",
        "print(final_list)\n",
        "print(\"Global Sum - **Successful**\")"
      ],
      "metadata": {
        "id": "zdRiQ0_yXIKl",
        "colab": {
          "base_uri": "https://localhost:8080/"
        },
        "outputId": "96e5ab9b-253a-468f-f9ed-a75e6a4cd874"
      },
      "execution_count": null,
      "outputs": [
        {
          "output_type": "stream",
          "name": "stdout",
          "text": [
            "Total Paid -  68702.11\n",
            "Global Sum Amount found - list_all2 index: 24\n",
            "35544.25\n",
            "['RANDR 2023-2024 ICBRates 01/05/23 to 31/03/24 M COM £3,834.83', 'MMRVAG Measles Mumps and Rubella (MMR) Vaccinations (GMS) NHSE £10.06', 'ROTOVG Rotavirus vaccine (GMS) NHSE £10.06', 'SHINGG Shingles Immunisation (GMS) NHSE £20.12', 'MENCBG Men B - GMS NHSE £10.06', 'HIBENG C&M-GMS LES Hib/Men C ES NHSE £30.18', 'SIXVAG C&M-GMS - 6 in 1 Vaccination NHSE £20.12', 'DESPRG GMS DES Participation in the PCN COM £592.51', 'WMSCMG GMS Weight Management Service COM £207.00', 'ZPRCAG LBS End of Life Apr-Mar24 M COM £144.68', 'ZPRCAG LBS Support For Carers Apr-Mar24 M COM £649.37', 'ZPRCAG LBS MCMW Apr-Mar24 M COM £1,862.47', 'ZPRCAG LBS Access Apr-Mar24 M COM £2,271.11', 'NRENT 23/24 Notional Rent Jul23 A COM £8,845.83', 'ZPRCAG PY 22-23 WL PMS Q4 Asthma Activity A COM £155.68', 'ZPRCAG PY 22-23 WL PMS Cervical Screening Q4 Activity A COM £210.07', 'ZPRCAG PY 22-23 WL PMS Q2-Q4 CEV Activity A COM £394.36', 'ZPRCAG PY 22-23 WL PMS Q4 AF Activity A COM £957.84', 'ZPRCAG PY 22-23 LES (OOHS) yearend reconciliation payment A COM £11,623.23', 'STATL Statutory Levy deductions Jun-Mar24 M COM -£203.59', '2752763 Orietta Emiliani 9.8 -£285.83', '2752763 Orietta Emiliani 14.38 -£419.42', 'Global Sum £35544.25']\n",
            "Global Sum - **Successful**\n"
          ]
        }
      ]
    },
    {
      "cell_type": "markdown",
      "source": [
        "# Prepare data for **DataFrame**\n",
        "* Splitting invoice description and amount.\n",
        "* **Append** column lists for dataframe."
      ],
      "metadata": {
        "id": "Ev6axZ_Jtr5v"
      }
    },
    {
      "cell_type": "code",
      "source": [
        "#Declairing required variables.\n",
        "contact_name = []\n",
        "email_address = []\n",
        "PO1 = []\n",
        "PO2 = []\n",
        "PO3 = []\n",
        "PO4 = []\n",
        "city = []\n",
        "PO_region = []\n",
        "postal_code = []\n",
        "country = []\n",
        "address1 = []\n",
        "address2 = []\n",
        "address3 = []\n",
        "address4 = []\n",
        "sa_city = []\n",
        "sa_region = []\n",
        "sa_postalcode = []\n",
        "sa_country = []\n",
        "invoice_number = []\n",
        "ref = []\n",
        "invoice_date = []\n",
        "due_date = []\n",
        "planned_date = []\n",
        "total = []\n",
        "tax_total = []\n",
        "invoice_amount_paid = []\n",
        "invoice_amount_due = []\n",
        "inv_item_code = []\n",
        "description = []\n",
        "quantitiy = []\n",
        "unit_amount = []\n",
        "line_amount = []\n",
        "account_code = []\n",
        "tax_type = []\n",
        "discount =[]\n",
        "tax_amount = []\n",
        "trackn1 = []\n",
        "tracko1 = []\n",
        "trackn2 = []\n",
        "tracko2 = []\n",
        "currency = []\n",
        "type_ = []\n",
        "sent = []\n",
        "status = []\n",
        "\n",
        "#function to assign Account Code\n",
        "\n",
        "account_code_dic = {\n",
        "    \"rates\": \"102\",\n",
        "    \"childhood flu\": \"124A\",\n",
        "    \"influenza\": \"124\",\n",
        "    \"mmr\": \"137\",\n",
        "    \"pneumoc\": \"125\",\n",
        "    \"rotavirus\": \"128\",\n",
        "    \"hpv\": \"158\",\n",
        "    \"men b\": \"135\",\n",
        "    \"hib/men c\": \"135A\",\n",
        "    \"6 in 1\": \"120\",\n",
        "    \"pms cis\": \"209\",\n",
        "    \"last phase of life\": \"165\",\n",
        "    \"hard to reach\": \"193\",\n",
        "    \"carers\": \"193\",\n",
        "    \"my way\": \"183B\",\n",
        "    \"access\": \"193\",\n",
        "    \"long covid\": \"193\",\n",
        "    \"pcn participation\": \"250B\",\n",
        "    \"rent\": \"111\",\n",
        "    \"prescribing\": \"203\",\n",
        "    \"ecg\": \"185\",\n",
        "    \"spoke\": \"132A\",\n",
        "    \"warfarin\": \"181\",\n",
        "    \"homeless\": \"186\",\n",
        "    \"wound\": \"192\",\n",
        "    \"mental\": \"187\",\n",
        "    \"diabetes\": \"184\",\n",
        "    \"phlebotomy\": \"189\",\n",
        "    \"coordinate\": \"183\",\n",
        "    \"levy\": \"523\",\n",
        "    \"global\": \"100\",\n",
        "    \"aspiration\": \"103\"\n",
        "}\n",
        "\n",
        "#function to assign account_code\n",
        "def get_account_no(invoice_description):\n",
        "  output = \"\"\n",
        "  for x, y in account_code_dic.items():\n",
        "    if x in invoice_description:\n",
        "      output = y\n",
        "    else:\n",
        "      pass\n",
        "  return output\n",
        "\n",
        "\n",
        "for l in final_list:\n",
        "  if \"-------------\" in l:\n",
        "\n",
        "    index_in_l = final_list.index(\"-----------\")\n",
        "    print(\"****** Global Sum on next String **********\", index_in_l)\n",
        "\n",
        "    #value_pair_list = list.split(\"£\")\n",
        "    #net_income_str = value_pair_list[-1]\n",
        "    #remove ',' from str\n",
        "    #net_income = net_income_str.replace(\",\", \"\")\n",
        "    #net_income = float(net_income)\n",
        "    #print(\"Net Income = \", net_income, type(net_income))\n",
        "\n",
        "  elif \"-£\" in l:\n",
        "    print('invoiceable MINUS - '+ l)\n",
        "\n",
        "    value_pair_list = l.split(\"-£\")\n",
        "    invoicable_desc = value_pair_list[0]\n",
        "    invcoice_desc_lower = invoicable_desc.lower()\n",
        "    value_pair_list = l.split(\"£\")\n",
        "    invoicable_desc = l[0]\n",
        "    invoicable_value_str = value_pair_list[-1].replace(\",\",\"\")\n",
        "    invoicable_value = -abs(float(invoicable_value_str))\n",
        "\n",
        "    contact_name.append('NHS England GMS')\n",
        "    email_address.append(\"\")\n",
        "    PO1.append(\"\")\n",
        "    PO2.append('')\n",
        "    PO3.append('')\n",
        "    PO4.append('')\n",
        "    city.append('')\n",
        "    PO_region.append('')\n",
        "    postal_code.append('')\n",
        "    country.append('')\n",
        "    address1.append('')\n",
        "    address2.append('')\n",
        "    address3.append('')\n",
        "    address4.append('')\n",
        "    sa_city.append('')\n",
        "    sa_region.append('')\n",
        "    sa_postalcode.append('')\n",
        "    sa_country.append('')\n",
        "    invoice_number.append(invoice_number_input)\n",
        "    ref.append('')\n",
        "    invoice_date.append(invoice_date_input)\n",
        "    due_date.append(invoice_date_input)\n",
        "    planned_date.append('')\n",
        "    tax_total.append(0)\n",
        "    invoice_amount_paid.append(0)\n",
        "    inv_item_code.append('')\n",
        "    description.append(invoicable_desc)\n",
        "    quantitiy.append(1)\n",
        "    unit_amount.append(invoicable_value)\n",
        "    invoice_amount_due.append(invoicable_value)\n",
        "    discount.append('')\n",
        "    line_amount.append(invoicable_value)\n",
        "    tax_type.append('No VAT')\n",
        "    tax_amount.append(0)\n",
        "    trackn1.append('')\n",
        "    tracko1.append('')\n",
        "    trackn2.append('')\n",
        "    tracko2.append('')\n",
        "    currency.append('GBP')\n",
        "    type_.append('Sales Invoice')\n",
        "    sent.append('')\n",
        "    status.append('')\n",
        "    account_code.append(get_account_no(invcoice_desc_lower))\n",
        "\n",
        "  else:\n",
        "    print(\"invoiceable POS - \"+ l)\n",
        "\n",
        "    value_pair_list = l.split(\"£\")\n",
        "    invoicable_desc = value_pair_list[0]\n",
        "    invcoice_desc_lower = invoicable_desc.lower()\n",
        "    invoicable_value_str = value_pair_list[-1].replace(\",\",\"\")\n",
        "    invoicable_value = float(invoicable_value_str)\n",
        "\n",
        "\n",
        "    contact_name.append('NHS England GMS')\n",
        "    email_address.append(\"\")\n",
        "    PO1.append(\"\")\n",
        "    PO2.append('')\n",
        "    PO3.append('')\n",
        "    PO4.append('')\n",
        "    city.append('')\n",
        "    PO_region.append('')\n",
        "    postal_code.append('')\n",
        "    country.append('')\n",
        "    address1.append('')\n",
        "    address2.append('')\n",
        "    address3.append('')\n",
        "    address4.append('')\n",
        "    sa_city.append('')\n",
        "    sa_region.append('')\n",
        "    sa_postalcode.append('')\n",
        "    sa_country.append('')\n",
        "    invoice_number.append(invoice_number_input)\n",
        "    ref.append('')\n",
        "    invoice_date.append(invoice_date_input)\n",
        "    due_date.append(invoice_date_input)\n",
        "    planned_date.append('')\n",
        "    tax_total.append(0)\n",
        "    invoice_amount_paid.append(0)\n",
        "    inv_item_code.append('')\n",
        "    description.append(invoicable_desc)\n",
        "    quantitiy.append(1)\n",
        "    unit_amount.append(invoicable_value)\n",
        "    discount.append('')\n",
        "    line_amount.append(invoicable_value)\n",
        "    invoice_amount_due.append(invoicable_value)\n",
        "    account_code.append(get_account_no(invcoice_desc_lower))\n",
        "    tax_type.append('No VAT')\n",
        "    tax_amount.append(0)\n",
        "    trackn1.append('')\n",
        "    tracko1.append('')\n",
        "    trackn2.append('')\n",
        "    tracko2.append('')\n",
        "    currency.append('GBP')\n",
        "    type_.append('Sales Invoice')\n",
        "    sent.append('')\n",
        "    status.append('')\n",
        "\n",
        "#Calculte the SUM of all the valuse on the list invoicable_value - create 2 lists total and invoice_amount_due\n",
        "invoice_total_sum=0\n",
        "total = []\n",
        "invoice_total_sum = sum(unit_amount)\n",
        "total = [invoice_total_sum] * len(currency)\n",
        "print(\"**Successful**\")\n"
      ],
      "metadata": {
        "id": "X6eHM9J0uD0k",
        "colab": {
          "base_uri": "https://localhost:8080/"
        },
        "outputId": "ba051157-5c2b-47a1-ee57-0ea1489134a1"
      },
      "execution_count": null,
      "outputs": [
        {
          "output_type": "stream",
          "name": "stdout",
          "text": [
            "invoiceable POS - RANDR 2023-2024 ICBRates 01/05/23 to 31/03/24 M COM £3,834.83\n",
            "invoiceable POS - MMRVAG Measles Mumps and Rubella (MMR) Vaccinations (GMS) NHSE £10.06\n",
            "invoiceable POS - ROTOVG Rotavirus vaccine (GMS) NHSE £10.06\n",
            "invoiceable POS - SHINGG Shingles Immunisation (GMS) NHSE £20.12\n",
            "invoiceable POS - MENCBG Men B - GMS NHSE £10.06\n",
            "invoiceable POS - HIBENG C&M-GMS LES Hib/Men C ES NHSE £30.18\n",
            "invoiceable POS - SIXVAG C&M-GMS - 6 in 1 Vaccination NHSE £20.12\n",
            "invoiceable POS - DESPRG GMS DES Participation in the PCN COM £592.51\n",
            "invoiceable POS - WMSCMG GMS Weight Management Service COM £207.00\n",
            "invoiceable POS - ZPRCAG LBS End of Life Apr-Mar24 M COM £144.68\n",
            "invoiceable POS - ZPRCAG LBS Support For Carers Apr-Mar24 M COM £649.37\n",
            "invoiceable POS - ZPRCAG LBS MCMW Apr-Mar24 M COM £1,862.47\n",
            "invoiceable POS - ZPRCAG LBS Access Apr-Mar24 M COM £2,271.11\n",
            "invoiceable POS - NRENT 23/24 Notional Rent Jul23 A COM £8,845.83\n",
            "invoiceable POS - ZPRCAG PY 22-23 WL PMS Q4 Asthma Activity A COM £155.68\n",
            "invoiceable POS - ZPRCAG PY 22-23 WL PMS Cervical Screening Q4 Activity A COM £210.07\n",
            "invoiceable POS - ZPRCAG PY 22-23 WL PMS Q2-Q4 CEV Activity A COM £394.36\n",
            "invoiceable POS - ZPRCAG PY 22-23 WL PMS Q4 AF Activity A COM £957.84\n",
            "invoiceable POS - ZPRCAG PY 22-23 LES (OOHS) yearend reconciliation payment A COM £11,623.23\n",
            "invoiceable MINUS - STATL Statutory Levy deductions Jun-Mar24 M COM -£203.59\n",
            "invoiceable MINUS - 2752763 Orietta Emiliani 9.8 -£285.83\n",
            "invoiceable MINUS - 2752763 Orietta Emiliani 14.38 -£419.42\n",
            "invoiceable POS - Global Sum £35544.25\n",
            "**Successful**\n"
          ]
        }
      ]
    },
    {
      "cell_type": "markdown",
      "source": [
        "# Creating **Pandas DataFrame**\n"
      ],
      "metadata": {
        "id": "5_ZlBBmp-vU9"
      }
    },
    {
      "cell_type": "code",
      "source": [
        "import pandas as pd\n",
        "\n",
        "# dictionary of lists FUMCTION\n",
        "def make_dict():\n",
        "\n",
        "  dict = {\n",
        "    'ContactName': contact_name,\n",
        "    'EmailAddress': email_address,\n",
        "    'POAddressLine1':PO1,\n",
        "    'POAddressLine2': PO2,\n",
        "    'POAddressLine3': PO3,\n",
        "    'POAddressLine4': PO4,\n",
        "    'POCity': city,\n",
        "    'PORegion': PO_region,\n",
        "    'POPostalCode': postal_code,\n",
        "    'POCountry': country,\n",
        "    'SAAddressLine1': address1,\n",
        "    'SAAddressLine2': address2,\n",
        "    'SAAddressLine3': address3,\n",
        "    'SAAddressLine4': address4,\n",
        "    'SACity': sa_city,\n",
        "    'SARegion': sa_region,\n",
        "    'SAPostalCode': sa_postalcode,\n",
        "    'SACountry': sa_country,\n",
        "    'InvoiceNumber': invoice_number,\n",
        "    'Reference': ref,\n",
        "    'InvoiceDate': invoice_date,\n",
        "    'DueDate': invoice_date,\n",
        "    'PlannedDate': invoice_date,\n",
        "    'Total': total,\n",
        "    'TaxTotal': tax_total,\n",
        "    'InvoiceAmountPaid': invoice_amount_paid,\n",
        "    'InvoiceAmountDue': invoice_amount_due,\n",
        "    'InventoryItemCode': inv_item_code,\n",
        "    'Description': description,\n",
        "    'Quantity': quantitiy,\n",
        "    'UnitAmount': unit_amount,\n",
        "    'Discount': discount,\n",
        "    'LineAmount': line_amount,\n",
        "    'AccountCode': account_code,\n",
        "    'TaxType': tax_type,\n",
        "    'TaxAmount': tax_amount,\n",
        "    'TrackingName1': trackn1,\n",
        "    'TrackingOption1': tracko1,\n",
        "    'TrackingName2': trackn2,\n",
        "    'TrackingOption2': tracko2,\n",
        "    'Currency':\tcurrency,\n",
        "    'Type':\ttype_,\n",
        "    'Sent':\tsent,\n",
        "    'Status': status\n",
        "  }\n",
        "  return dict\n",
        "\n",
        "df = pd.DataFrame(make_dict())\n",
        "display(df.shape)\n",
        "\n",
        "print(\"DataFrame **Successful**\")"
      ],
      "metadata": {
        "id": "LNx9UhZs_Cca",
        "colab": {
          "base_uri": "https://localhost:8080/",
          "height": 52
        },
        "outputId": "6795ed4b-10aa-4362-ac05-7e874f235abb"
      },
      "execution_count": null,
      "outputs": [
        {
          "output_type": "display_data",
          "data": {
            "text/plain": [
              "(23, 44)"
            ]
          },
          "metadata": {}
        },
        {
          "output_type": "stream",
          "name": "stdout",
          "text": [
            "DataFrame **Successful**\n"
          ]
        }
      ]
    },
    {
      "cell_type": "markdown",
      "source": [
        "# **Mount** Google Dirve for file export."
      ],
      "metadata": {
        "id": "s8vd3Fk_gC0a"
      }
    },
    {
      "cell_type": "code",
      "source": [
        "from google.colab import drive\n",
        "drive.mount('/content/drive')"
      ],
      "metadata": {
        "id": "3np-spPtdc5j",
        "colab": {
          "base_uri": "https://localhost:8080/"
        },
        "outputId": "08cba138-4b0a-4a4d-8b07-ed248fde5e00"
      },
      "execution_count": null,
      "outputs": [
        {
          "output_type": "stream",
          "name": "stdout",
          "text": [
            "Drive already mounted at /content/drive; to attempt to forcibly remount, call drive.mount(\"/content/drive\", force_remount=True).\n"
          ]
        }
      ]
    },
    {
      "cell_type": "markdown",
      "source": [
        "# ✋ Create a '**Xero Automation**' folder on your Google Drive.\n",
        "You only need to do this once! Please note the file name is **case sensitive**.<BR>\n",
        "[Open Google Drive in a new tab.](https://drive.google.com/drive/my-drive)\n"
      ],
      "metadata": {
        "id": "FGfELCoDglmq"
      }
    },
    {
      "cell_type": "markdown",
      "source": [
        "# Export **CSV** to Google Drive.\n",
        "The file will be saved in **Xero Automation** folder on your Google Drive."
      ],
      "metadata": {
        "id": "Zauvuw_jTM6s"
      }
    },
    {
      "cell_type": "code",
      "source": [
        "file_name = \"Xero Import CSV - \" + str(invoice_date_input) + \".csv\"\n",
        "output_path = \"/content/drive/MyDrive/Xero Automation/\" + file_name\n",
        "df.to_csv(output_path, index=False)\n",
        "\n",
        "print(\"✅ File Export Successful >>>  MyGoogleDrive/Xero Automation/\"  + file_name + \"\\n\")\n",
        "\n",
        "check_total = round(total_amount - invoice_total_sum, 2)\n",
        "\n",
        "if check_total > 0.0:\n",
        "  print(f\"PDF Invoice Total = £{total_amount}\")\n",
        "  print(f\"CSV Invoice Total = £{round(invoice_total_sum, 2)}\")\n",
        "  print(f\"⚠️ Manually add invoice item for £{check_total} to Xero after import. Code as NHS Income Other\")\n",
        "else:\n",
        "  print(\"👍 PDF Invoice Total and CSV Invoice Totals MATCHES!!\")\n",
        "\n"
      ],
      "metadata": {
        "id": "rlPPacnZTXBU",
        "colab": {
          "base_uri": "https://localhost:8080/"
        },
        "outputId": "9398b1a1-aaca-4124-ad22-d4c2ec0b537a"
      },
      "execution_count": null,
      "outputs": [
        {
          "output_type": "stream",
          "name": "stdout",
          "text": [
            "✅ File Export Successful >>>  MyGoogleDrive/Xero Automation/Xero Import CSV - 22-Jul-2023.csv\n",
            "\n",
            "PDF Invoice Total = £68702.11\n",
            "CSV Invoice Total = £66484.99\n",
            "⚠️ Manually add invoice item for £2217.12 to Xero after import. Code as NHS Income Other\n"
          ]
        }
      ]
    },
    {
      "cell_type": "code",
      "source": [],
      "metadata": {
        "id": "YhOmPIWidKP7"
      },
      "execution_count": null,
      "outputs": []
    }
  ]
}